{
 "cells": [
  {
   "cell_type": "markdown",
   "id": "22dd0017",
   "metadata": {},
   "source": [
    "# Model 1: Siamese BiLSTM Testing\n"
   ]
  },
  {
   "cell_type": "code",
   "execution_count": 1,
   "id": "326d55a1",
   "metadata": {},
   "outputs": [],
   "source": [
    "# imports\n",
    "import torch\n",
    "import torch.nn as nn\n",
    "from torch.utils.data import Dataset, DataLoader\n",
    "import pickle\n",
    "import numpy as np\n",
    "import os\n",
    "from sklearn.metrics import accuracy_score, classification_report\n",
    "import matplotlib.pyplot as plt"
   ]
  },
  {
   "cell_type": "code",
   "execution_count": 2,
   "id": "efc6e94c",
   "metadata": {},
   "outputs": [
    {
     "name": "stdout",
     "output_type": "stream",
     "text": [
      "using device: cpu\n"
     ]
    }
   ],
   "source": [
    "# device configuration\n",
    "device = torch.device(\"cpu\")\n",
    "print(f\"using device: {device}\")"
   ]
  },
  {
   "cell_type": "markdown",
   "id": "e8326074",
   "metadata": {},
   "source": [
    "\n"
   ]
  },
  {
   "cell_type": "code",
   "execution_count": 3,
   "id": "5b926cc5",
   "metadata": {},
   "outputs": [
    {
     "name": "stdout",
     "output_type": "stream",
     "text": [
      "Test examples: 2126\n",
      "Vocabulary size: 20499\n"
     ]
    }
   ],
   "source": [
    "# load preprocessed data\n",
    "with open('preprocessed_data.pkl', 'rb') as f:\n",
    "    data = pickle.load(f)\n",
    "\n",
    "test_premise_idx = data['test_premise_idx']\n",
    "test_hypothesis_idx = data['test_hypothesis_idx']\n",
    "test_labels = data['test_labels']\n",
    "\n",
    "word_to_ix = data['word_to_ix']\n",
    "vocab_size = data['vocab_size']\n",
    "label_to_ix = data['label_to_ix']\n",
    "ix_to_label = data['ix_to_label']\n",
    "\n",
    "print(f\"Test examples: {len(test_premise_idx)}\")\n",
    "print(f\"Vocabulary size: {vocab_size}\")\n"
   ]
  },
  {
   "cell_type": "code",
   "execution_count": null,
   "id": "760b8f68",
   "metadata": {},
   "outputs": [],
   "source": [
    "\n"
   ]
  },
  {
   "cell_type": "code",
   "execution_count": 4,
   "id": "fbb7bfba",
   "metadata": {},
   "outputs": [],
   "source": [
    "# dataset class\n",
    "class NLIDataset(Dataset):\n",
    "    def __init__(self, premise_idx, hypothesis_idx, labels):\n",
    "        self.premise_idx = premise_idx\n",
    "        self.hypothesis_idx = hypothesis_idx\n",
    "        self.labels = labels\n",
    "    \n",
    "    def __len__(self):\n",
    "        return len(self.labels)\n",
    "    \n",
    "    def __getitem__(self, idx):\n",
    "        return {\n",
    "            'premise': self.premise_idx[idx],\n",
    "            'hypothesis': self.hypothesis_idx[idx],\n",
    "            'label': self.labels[idx]\n",
    "        }\n"
   ]
  },
  {
   "cell_type": "code",
   "execution_count": 5,
   "id": "4d7a6b8e",
   "metadata": {},
   "outputs": [],
   "source": [
    "# collate function for padding with length limiting\n",
    "MAX_SEQ_LENGTH = 200  # limit sequence length to prevent memory issues\n",
    "\n",
    "def collate_fn(batch):\n",
    "    # extract sequences and labels\n",
    "    premises = [item['premise'] for item in batch]\n",
    "    hypotheses = [item['hypothesis'] for item in batch]\n",
    "    labels = [item['label'] for item in batch]\n",
    "    \n",
    "    # truncate sequences if too long\n",
    "    premises = [p[:MAX_SEQ_LENGTH] for p in premises]\n",
    "    hypotheses = [h[:MAX_SEQ_LENGTH] for h in hypotheses]\n",
    "    \n",
    "    # get max lengths in this batch\n",
    "    max_premise_len = max(len(p) for p in premises)\n",
    "    max_hypothesis_len = max(len(h) for h in hypotheses)\n",
    "    \n",
    "    # pad sequences\n",
    "    padded_premises = []\n",
    "    for p in premises:\n",
    "        padded = p + [0] * (max_premise_len - len(p))\n",
    "        padded_premises.append(padded)\n",
    "    \n",
    "    padded_hypotheses = []\n",
    "    for h in hypotheses:\n",
    "        padded = h + [0] * (max_hypothesis_len - len(h))\n",
    "        padded_hypotheses.append(padded)\n",
    "    \n",
    "    # convert to tensors\n",
    "    premises_tensor = torch.LongTensor(padded_premises)\n",
    "    hypotheses_tensor = torch.LongTensor(padded_hypotheses)\n",
    "    labels_tensor = torch.LongTensor(labels)\n",
    "    \n",
    "    return premises_tensor, hypotheses_tensor, labels_tensor\n"
   ]
  },
  {
   "cell_type": "markdown",
   "id": "6ee46d73",
   "metadata": {},
   "source": [
    "\n"
   ]
  },
  {
   "cell_type": "code",
   "execution_count": 6,
   "id": "f432275b",
   "metadata": {},
   "outputs": [
    {
     "name": "stdout",
     "output_type": "stream",
     "text": [
      "Number of test batches: 67\n"
     ]
    }
   ],
   "source": [
    "# create dataset\n",
    "test_dataset = NLIDataset(test_premise_idx, test_hypothesis_idx, test_labels)\n",
    "\n",
    "# hyperparameters\n",
    "BATCH_SIZE = 32  # use 32 for CPU, 64 for GPU\n",
    "EMBEDDING_DIM = 128\n",
    "HIDDEN_DIM = 256\n",
    "NUM_CLASSES = 2\n",
    "LEARNING_RATE = 0.001\n",
    "NUM_EPOCHS = 10\n",
    "\n",
    "# create dataloader\n",
    "test_loader = DataLoader(test_dataset, batch_size=BATCH_SIZE, shuffle=False, collate_fn=collate_fn)\n",
    "\n",
    "print(f\"Number of test batches: {len(test_loader)}\")\n"
   ]
  },
  {
   "cell_type": "code",
   "execution_count": 7,
   "id": "589ca682",
   "metadata": {},
   "outputs": [],
   "source": [
    "# siamese bilstm model\n",
    "class SiameseBiLSTM(nn.Module):\n",
    "    def __init__(self, vocab_size, embedding_dim, hidden_dim, num_classes):\n",
    "        super(SiameseBiLSTM, self).__init__()\n",
    "        \n",
    "        # embedding layer\n",
    "        self.embedding = nn.Embedding(vocab_size, embedding_dim, padding_idx=0)\n",
    "        \n",
    "        # bidirectional lstm\n",
    "        self.lstm = nn.LSTM(embedding_dim, hidden_dim, batch_first=True, bidirectional=True)\n",
    "        \n",
    "        # classification layers\n",
    "        self.fc1 = nn.Linear(4 * hidden_dim, hidden_dim)\n",
    "        self.fc2 = nn.Linear(hidden_dim, num_classes)\n",
    "        self.dropout = nn.Dropout(0.3)\n",
    "    \n",
    "    def encode(self, x):\n",
    "        # embed sequence\n",
    "        embeds = self.embedding(x)\n",
    "        \n",
    "        # pass through bilstm\n",
    "        lstm_out, (h_n, c_n) = self.lstm(embeds)\n",
    "        \n",
    "        # concat forward and backward final hidden states\n",
    "        hidden = torch.cat((h_n[0], h_n[1]), dim=1)\n",
    "        return hidden\n",
    "    \n",
    "    def forward(self, premise, hypothesis):\n",
    "        # encode both sequences with shared encoder\n",
    "        premise_vec = self.encode(premise)\n",
    "        hypothesis_vec = self.encode(hypothesis)\n",
    "        \n",
    "        # concatenate encodings\n",
    "        combined = torch.cat((premise_vec, hypothesis_vec), dim=1)\n",
    "        \n",
    "        # classification\n",
    "        out = torch.relu(self.fc1(combined))\n",
    "        out = self.dropout(out)\n",
    "        out = self.fc2(out)\n",
    "        return out\n"
   ]
  },
  {
   "cell_type": "code",
   "execution_count": 8,
   "id": "2f371471",
   "metadata": {},
   "outputs": [
    {
     "name": "stdout",
     "output_type": "stream",
     "text": [
      "total parameters: 3677314\n"
     ]
    }
   ],
   "source": [
    "# load pre-trained model\n",
    "model = SiameseBiLSTM(vocab_size, EMBEDDING_DIM, HIDDEN_DIM, NUM_CLASSES)\n",
    "model.load_state_dict(torch.load('best_siamese_bilstm.pth', map_location=device))\n",
    "model = model.to(device)\n",
    "model.eval()\n",
    "\n",
    "criterion = nn.CrossEntropyLoss()\n",
    "\n",
    "print(f\"total parameters: {sum(p.numel() for p in model.parameters())}\")\n"
   ]
  },
  {
   "cell_type": "code",
   "execution_count": 9,
   "id": "3bbfea17",
   "metadata": {},
   "outputs": [
    {
     "name": "stdout",
     "output_type": "stream",
     "text": [
      "epochs: 10\n",
      "final train accuracy: 0.9926\n",
      "final validation accuracy: 0.7117\n",
      "best validation accuracy: 0.7347\n"
     ]
    }
   ],
   "source": [
    "# load training results\n",
    "with open('bilstm_results.pkl', 'rb') as f:\n",
    "    results = pickle.load(f)\n",
    "\n",
    "train_losses = results['train_losses']\n",
    "val_losses = results['val_losses']\n",
    "train_accs = results['train_accs']\n",
    "val_accs = results['val_accs']\n",
    "hyperparameters = results['hyperparameters']\n",
    "\n",
    "print(f\"epochs: {len(train_losses)}\")\n",
    "print(f\"final train accuracy: {train_accs[-1]:.4f}\")\n",
    "print(f\"final validation accuracy: {val_accs[-1]:.4f}\")\n",
    "print(f\"best validation accuracy: {max(val_accs):.4f}\")\n"
   ]
  },
  {
   "cell_type": "code",
   "execution_count": 10,
   "id": "76b4070a",
   "metadata": {},
   "outputs": [],
   "source": [
    "# evaluation function\n",
    "def evaluate(model, dataloader, criterion, device):\n",
    "    model.eval()\n",
    "    total_loss = 0\n",
    "    all_preds = []\n",
    "    all_labels = []\n",
    "    \n",
    "    with torch.no_grad():\n",
    "        for premises, hypotheses, labels in dataloader:\n",
    "            premises = premises.to(device)\n",
    "            hypotheses = hypotheses.to(device)\n",
    "            labels = labels.to(device)\n",
    "            \n",
    "            outputs = model(premises, hypotheses)\n",
    "            loss = criterion(outputs, labels)\n",
    "            \n",
    "            total_loss += loss.item()\n",
    "            \n",
    "            preds = torch.argmax(outputs, dim=1)\n",
    "            all_preds.extend(preds.cpu().numpy())\n",
    "            all_labels.extend(labels.cpu().numpy())\n",
    "    \n",
    "    avg_loss = total_loss / len(dataloader)\n",
    "    accuracy = accuracy_score(all_labels, all_preds)\n",
    "    return avg_loss, accuracy, all_preds, all_labels\n"
   ]
  },
  {
   "cell_type": "code",
   "execution_count": 11,
   "id": "27ca3e29",
   "metadata": {},
   "outputs": [
    {
     "data": {
      "image/png": "[encoded data removed]",
      "text/plain": [
       "<Figure size 1200x400 with 2 Axes>"
      ]
     },
     "metadata": {},
     "output_type": "display_data"
    }
   ],
   "source": [
    "# plot training history\n",
    "fig, (ax1, ax2) = plt.subplots(1, 2, figsize=(12, 4))\n",
    "\n",
    "ax1.plot(train_losses, label='train loss')\n",
    "ax1.plot(val_losses, label='val loss')\n",
    "ax1.set_xlabel('epoch')\n",
    "ax1.set_ylabel('loss')\n",
    "ax1.set_title('training and validation loss')\n",
    "ax1.legend()\n",
    "\n",
    "ax2.plot(train_accs, label='train acc')\n",
    "ax2.plot(val_accs, label='val acc')\n",
    "ax2.set_xlabel('epoch')\n",
    "ax2.set_ylabel('accuracy')\n",
    "ax2.set_title('training and validation accuracy')\n",
    "ax2.legend()\n",
    "\n",
    "plt.tight_layout()\n",
    "plt.show()\n"
   ]
  },
  {
   "cell_type": "code",
   "execution_count": 12,
   "id": "a2f23786",
   "metadata": {},
   "outputs": [
    {
     "name": "stdout",
     "output_type": "stream",
     "text": [
      "test loss: 0.6090\n",
      "test accuracy: 0.6952\n",
      "              precision    recall  f1-score   support\n",
      "\n",
      "     entails       0.63      0.54      0.59       842\n",
      "     neutral       0.73      0.79      0.76      1284\n",
      "\n",
      "    accuracy                           0.70      2126\n",
      "   macro avg       0.68      0.67      0.67      2126\n",
      "weighted avg       0.69      0.70      0.69      2126\n",
      "\n"
     ]
    }
   ],
   "source": [
    "# evaluate on test set\n",
    "test_loss, test_acc, test_preds, test_labels = evaluate(model, test_loader, criterion, device)\n",
    "\n",
    "print(f\"test loss: {test_loss:.4f}\")\n",
    "print(f\"test accuracy: {test_acc:.4f}\")\n",
    "print(classification_report(test_labels, test_preds, target_names=['entails', 'neutral']))\n"
   ]
  },
  {
   "cell_type": "code",
   "execution_count": 13,
   "id": "84c304f5",
   "metadata": {},
   "outputs": [
    {
     "data": {
      "image/png": "[encoded data removed]",
      "text/plain": [
       "<Figure size 800x600 with 2 Axes>"
      ]
     },
     "metadata": {},
     "output_type": "display_data"
    }
   ],
   "source": [
    "# confusion matrix\n",
    "from sklearn.metrics import confusion_matrix\n",
    "\n",
    "cm = confusion_matrix(test_labels, test_preds)\n",
    "labels = ['entails', 'neutral']\n",
    "\n",
    "fig, ax = plt.subplots(figsize=(8, 6))\n",
    "im = ax.imshow(cm, interpolation='nearest', cmap='Blues')\n",
    "ax.figure.colorbar(im, ax=ax)\n",
    "\n",
    "ax.set(xticks=np.arange(cm.shape[1]),\n",
    "       yticks=np.arange(cm.shape[0]),\n",
    "       xticklabels=labels, yticklabels=labels,\n",
    "       ylabel='true label',\n",
    "       xlabel='predicted label',\n",
    "       title='confusion matrix')\n",
    "\n",
    "thresh = cm.max() / 2.\n",
    "for i in range(cm.shape[0]):\n",
    "    for j in range(cm.shape[1]):\n",
    "        ax.text(j, i, format(cm[i, j], 'd'),\n",
    "                ha=\"center\", va=\"center\",\n",
    "                color=\"white\" if cm[i, j] > thresh else \"black\")\n",
    "\n",
    "plt.tight_layout()\n",
    "plt.show()\n"
   ]
  },
  {
   "cell_type": "code",
   "execution_count": 14,
   "id": "f28b0595",
   "metadata": {},
   "outputs": [
    {
     "name": "stdout",
     "output_type": "stream",
     "text": [
      "vocabulary size: 20499\n",
      "embedding dim: 128\n",
      "hidden dim: 256\n",
      "training epochs: 10\n",
      "best validation accuracy: 0.7347\n",
      "test accuracy: 0.6952\n"
     ]
    }
   ],
   "source": [
    "# summary\n",
    "print(f\"vocabulary size: {vocab_size}\")\n",
    "print(f\"embedding dim: {EMBEDDING_DIM}\")\n",
    "print(f\"hidden dim: {HIDDEN_DIM}\")\n",
    "print(f\"training epochs: {len(train_losses)}\")\n",
    "print(f\"best validation accuracy: {max(val_accs):.4f}\")\n",
    "print(f\"test accuracy: {test_acc:.4f}\")\n"
   ]
  }
 ],
 "metadata": {
  "kernelspec": {
   "display_name": "Python 3",
   "language": "python",
   "name": "python3"
  },
  "language_info": {
   "codemirror_mode": {
    "name": "ipython",
    "version": 3
   },
   "file_extension": ".py",
   "mimetype": "text/x-python",
   "name": "python",
   "nbconvert_exporter": "python",
   "pygments_lexer": "ipython3",
   "version": "3.13.7"
  }
 },
 "nbformat": 4,
 "nbformat_minor": 5
}
