{
  "nbformat": 4,
  "nbformat_minor": 0,
  "metadata": {
    "colab": {
      "provenance": [],
      "toc_visible": true,
      "gpuType": "T4"
    },
    "kernelspec": {
      "name": "python3",
      "display_name": "Python 3"
    },
    "language_info": {
      "name": "python"
    },
    "accelerator": "GPU"
  },
  "cells": [
    {
      "cell_type": "markdown",
      "source": [
        "# 2025 CITS4012 Project\n",
        "*Group No 26*"
      ],
      "metadata": {
        "id": "32yCsRUo8H33"
      }
    },
    {
      "cell_type": "markdown",
      "source": [
        "# Readme\n",
        "*If there is something to be noted for the marker, please mention here.*\n",
        "\n",
        "*If you are planning to implement a program with Object Oriented Programming style, please put those the bottom of this ipynb file*"
      ],
      "metadata": {
        "id": "XCybYoGz8YWQ"
      }
    },
    {
      "cell_type": "markdown",
      "source": [
        "# 1.Dataset Processing\n",
        "(You can add as many code blocks and text blocks as you need. However, YOU SHOULD NOT MODIFY the section title)"
      ],
      "metadata": {
        "id": "6po98qVA8bJD"
      }
    },
    {
      "cell_type": "code",
      "source": [
        "#  paths, installs, imports\n",
        "!pip -q install nltk\n",
        "\n",
        "import os, re, json, pickle\n",
        "from pathlib import Path\n",
        "import pandas as pd\n",
        "import torch\n",
        "import torch.nn as nn\n",
        "import torch.optim as optim\n",
        "from torch.utils.data import Dataset, DataLoader\n",
        "import numpy as np\n",
        "import math\n",
        "import time\n",
        "from sklearn.metrics import accuracy_score, classification_report\n",
        "import matplotlib.pyplot as plt"
      ],
      "metadata": {
        "id": "WBvH_EH37LIN"
      },
      "execution_count": 42,
      "outputs": []
    },
    {
      "cell_type": "code",
      "source": [
        "USE_DRIVE = True                  # set to False if you want to upload files manually\n",
        "DATA_DIR = \"/content/drive/MyDrive/CITS4012_Group_26\"\n",
        "\n",
        "if USE_DRIVE:\n",
        "    from google.colab import drive\n",
        "    drive.mount('/content/drive')\n",
        "    DATA_DIR = Path(DATA_DIR)\n",
        "    assert DATA_DIR.exists(), f\"DATA_DIR not found: {DATA_DIR}\"\n",
        "else:\n",
        "    from google.colab import files\n",
        "    print(\"Please upload train.json, test.json, validation.json ...\")\n",
        "    _ = files.upload()  # choose the three JSON files\n",
        "    DATA_DIR = Path(\"/content\")"
      ],
      "metadata": {
        "id": "KBvv-Tqa9o1u",
        "outputId": "32d3a47a-5f5e-4b26-b239-ceee5a30643f",
        "colab": {
          "base_uri": "https://localhost:8080/"
        }
      },
      "execution_count": 43,
      "outputs": [
        {
          "output_type": "stream",
          "name": "stdout",
          "text": [
            "Drive already mounted at /content/drive; to attempt to forcibly remount, call drive.mount(\"/content/drive\", force_remount=True).\n"
          ]
        }
      ]
    },
    {
      "cell_type": "code",
      "source": [],
      "metadata": {
        "id": "41S-olgb_STV"
      },
      "execution_count": 43,
      "outputs": []
    },
    {
      "cell_type": "code",
      "source": [
        "#  Load data\n",
        "train_path = DATA_DIR / \"train.json\"\n",
        "test_path  = DATA_DIR / \"test.json\"\n",
        "val_path   = DATA_DIR / \"validation.json\"\n",
        "\n",
        "for p in [train_path, test_path, val_path]:\n",
        "    if not p.exists():\n",
        "        raise FileNotFoundError(f\"Missing file: {p}\")\n",
        "\n",
        "train = pd.read_json(train_path)\n",
        "test  = pd.read_json(test_path)\n",
        "validation = pd.read_json(val_path)\n",
        "\n",
        "print(\"Loaded:\", len(train), len(validation), len(test))\n",
        "print(train.head(3))"
      ],
      "metadata": {
        "id": "F9O3okkc_Yao",
        "outputId": "d18a726f-72f2-4da1-dd85-58475cd7dd3f",
        "colab": {
          "base_uri": "https://localhost:8080/"
        }
      },
      "execution_count": 44,
      "outputs": [
        {
          "output_type": "stream",
          "name": "stdout",
          "text": [
            "Loaded: 23088 1304 2126\n",
            "                                             premise  \\\n",
            "0  Pluto rotates once on its axis every 6.39 Eart...   \n",
            "1  ---Glenn =====================================...   \n",
            "2  geysers - periodic gush of hot water at the su...   \n",
            "\n",
            "                                          hypothesis    label  \n",
            "0   Earth rotates on its axis once times in one day.  neutral  \n",
            "1   Earth rotates on its axis once times in one day.  entails  \n",
            "2  The surface of the sun is much hotter than alm...  neutral  \n"
          ]
        }
      ]
    },
    {
      "cell_type": "code",
      "source": [
        "#  Cleaning\n",
        "# Keep common science symbols, but we'll also handle dots that are NOT inside numbers.\n",
        "_ALLOWED = r\"[^a-z0-9\\.\\-\\+%°/<>=,\\s]\"  # keep common science symbols\n",
        "\n",
        "def clean_text(text: str) -> str:\n",
        "    text = str(text).lower()\n",
        "\n",
        "    # replace dots not between digits with space (keeps 3.14 etc.)\n",
        "    text = re.sub(r'(?<!\\d)\\.(?!\\d)', ' ', text)\n",
        "\n",
        "    # drop disallowed chars to space\n",
        "    text = re.sub(_ALLOWED, ' ', text)\n",
        "    # keep only a-z, 0-9, dots, and whitespace (extra safety)\n",
        "    text = re.sub(r'[^a-z0-9.\\s]', ' ', text)\n",
        "    # normalize spaces\n",
        "    text = re.sub(r'\\s+', ' ', text).strip()\n",
        "    return text\n",
        "\n",
        "for df in (train, test, validation):\n",
        "    df[\"premise_clean\"] = df[\"premise\"].apply(clean_text)\n",
        "    df[\"hypothesis_clean\"] = df[\"hypothesis\"].apply(clean_text)\n",
        "\n",
        "print(\"Cleaned example:\\n\", train[[\"premise_clean\",\"hypothesis_clean\",\"label\"]].head(1))"
      ],
      "metadata": {
        "id": "JQXlFWkv_jii",
        "outputId": "1863b6bf-6849-4158-e292-226948e543cc",
        "colab": {
          "base_uri": "https://localhost:8080/"
        }
      },
      "execution_count": 45,
      "outputs": [
        {
          "output_type": "stream",
          "name": "stdout",
          "text": [
            "Cleaned example:\n",
            "                                        premise_clean  \\\n",
            "0  pluto rotates once on its axis every 6.39 eart...   \n",
            "\n",
            "                                  hypothesis_clean    label  \n",
            "0  earth rotates on its axis once times in one day  neutral  \n"
          ]
        }
      ]
    },
    {
      "cell_type": "code",
      "source": [
        "# Tokenisation (NLTK)\n",
        "import nltk\n",
        "# Old vs new tokeniser packages; try both to be safe in Colab\n",
        "try:\n",
        "    nltk.download('punkt', quiet=True)\n",
        "except Exception as e:\n",
        "    print(\"punkt download issue:\", e)\n",
        "try:\n",
        "    nltk.download('punkt_tab', quiet=True)\n",
        "except Exception:\n",
        "    pass\n",
        "\n",
        "from nltk.tokenize import word_tokenize"
      ],
      "metadata": {
        "id": "kyeu9_TA_5U1"
      },
      "execution_count": 46,
      "outputs": []
    },
    {
      "cell_type": "code",
      "source": [
        "# Contractions (all lowercase to match our lowercasing)\n",
        "contraction_dict = {\n",
        "    \"ain't\": \"is not\", \"aren't\": \"are not\",\"can't\": \"cannot\", \"'cause\": \"because\",\n",
        "    \"could've\": \"could have\", \"couldn't\": \"could not\", \"didn't\": \"did not\",\n",
        "    \"doesn't\": \"does not\", \"don't\": \"do not\", \"hadn't\": \"had not\", \"hasn't\": \"has not\",\n",
        "    \"haven't\": \"have not\", \"he'd\": \"he would\", \"he'll\": \"he will\", \"he's\": \"he is\",\n",
        "    \"how'd\": \"how did\", \"how'd'y\": \"how do you\", \"how'll\": \"how will\", \"how's\": \"how is\",\n",
        "    \"i'd\": \"i would\", \"i'd've\": \"i would have\", \"i'll\": \"i will\", \"i'll've\": \"i will have\",\n",
        "    \"i'm\": \"i am\", \"i've\": \"i have\", \"isn't\": \"is not\", \"it'd\": \"it would\",\n",
        "    \"it'd've\": \"it would have\", \"it'll\": \"it will\", \"it'll've\": \"it will have\", \"it's\": \"it is\",\n",
        "    \"let's\": \"let us\", \"ma'am\": \"madam\", \"mayn't\": \"may not\", \"might've\": \"might have\",\n",
        "    \"mightn't\": \"might not\", \"mightn't've\": \"might not have\", \"must've\": \"must have\",\n",
        "    \"mustn't\": \"must not\", \"mustn't've\": \"must not have\", \"needn't\": \"need not\",\n",
        "    \"needn't've\": \"need not have\", \"o'clock\": \"of the clock\", \"oughtn't\": \"ought not\",\n",
        "    \"oughtn't've\": \"ought not have\", \"shan't\": \"shall not\", \"sha'n't\": \"shall not\",\n",
        "    \"shan't've\": \"shall not have\", \"she'd\": \"she would\", \"she'd've\": \"she would have\",\n",
        "    \"she'll\": \"she will\", \"she'll've\": \"she will have\", \"she's\": \"she is\", \"should've\": \"should have\",\n",
        "    \"shouldn't\": \"should not\", \"shouldn't've\": \"should not have\", \"so've\": \"so have\",\n",
        "    \"so's\": \"so as\", \"this's\": \"this is\", \"that'd\": \"that would\", \"that'd've\": \"that would have\",\n",
        "    \"that's\": \"that is\", \"there'd\": \"there would\", \"there'd've\": \"there would have\",\n",
        "    \"there's\": \"there is\", \"here's\": \"here is\", \"they'd\": \"they would\", \"they'd've\": \"they would have\",\n",
        "    \"they'll\": \"they will\", \"they'll've\": \"they will have\", \"they're\": \"they are\", \"they've\": \"they have\",\n",
        "    \"to've\": \"to have\", \"wasn't\": \"was not\", \"we'd\": \"we would\", \"we'd've\": \"we would have\",\n",
        "    \"we'll\": \"we will\", \"we'll've\": \"we will have\", \"we're\": \"we are\", \"we've\": \"we have\",\n",
        "    \"weren't\": \"were not\", \"what'll\": \"what will\", \"what'll've\": \"what will have\", \"what're\": \"what are\",\n",
        "    \"what's\": \"what is\", \"what've\": \"what have\", \"when's\": \"when is\", \"when've\": \"when have\",\n",
        "    \"where'd\": \"where did\", \"where's\": \"where is\", \"where've\": \"where have\", \"who'll\": \"who will\",\n",
        "    \"who'll've\": \"who will have\", \"who's\": \"who is\", \"who've\": \"who have\", \"why's\": \"why is\",\n",
        "    \"why've\": \"why have\", \"will've\": \"will have\", \"won't\": \"will not\", \"won't've\": \"will not have\",\n",
        "    \"would've\": \"would have\", \"wouldn't\": \"would not\", \"wouldn't've\": \"would not have\",\n",
        "    \"y'all\": \"you all\", \"y'all'd\": \"you all would\", \"y'all'd've\": \"you all would have\",\n",
        "    \"y'all're\": \"you all are\", \"y'all've\": \"you all have\", \"you'd\": \"you would\",\n",
        "    \"you'd've\": \"you would have\", \"you'll\": \"you will\", \"you'll've\": \"you will have\",\n",
        "    \"you're\": \"you are\", \"you've\": \"you have\"\n",
        "}\n",
        "\n",
        "# Faster contraction replacement with regex\n",
        "_contr_pat = re.compile(r'\\b(' + '|'.join(map(re.escape, contraction_dict.keys())) + r')\\b')\n",
        "\n",
        "def _expand_contractions(s: str) -> str:\n",
        "    return _contr_pat.sub(lambda m: contraction_dict[m.group(0)], s)\n",
        "\n",
        "def pre_process(sent_list):\n",
        "    \"\"\"\n",
        "    Preprocess a list of sentences:\n",
        "      - Expand contractions\n",
        "      - Remove punctuation (after expansion)\n",
        "      - Tokenize with NLTK\n",
        "    \"\"\"\n",
        "    out = []\n",
        "    for sent in sent_list:\n",
        "        s = str(sent).lower()\n",
        "        s = _expand_contractions(s)\n",
        "        s = re.sub(r'[^\\w\\s]', '', s)  # remove punctuation\n",
        "        out.append(word_tokenize(s))\n",
        "    return out\n",
        "\n",
        "print(\"Tokenizing premises...\")\n",
        "train_premise_tokens = pre_process(train[\"premise_clean\"].tolist())\n",
        "test_premise_tokens  = pre_process(test[\"premise_clean\"].tolist())\n",
        "val_premise_tokens   = pre_process(validation[\"premise_clean\"].tolist())\n",
        "\n",
        "print(\"Tokenizing hypotheses...\")\n",
        "train_hypothesis_tokens = pre_process(train[\"hypothesis_clean\"].tolist())\n",
        "test_hypothesis_tokens  = pre_process(test[\"hypothesis_clean\"].tolist())\n",
        "val_hypothesis_tokens   = pre_process(validation[\"hypothesis_clean\"].tolist())\n",
        "\n",
        "print(\"Example tokenized premise:\", train_premise_tokens[0][:20])\n",
        "print(\"Example tokenized hypothesis:\", train_hypothesis_tokens[0][:20])"
      ],
      "metadata": {
        "id": "82lCHyj6APFs",
        "outputId": "8d0c8466-cb34-40a9-edef-a8e01a9f6f04",
        "colab": {
          "base_uri": "https://localhost:8080/"
        }
      },
      "execution_count": 47,
      "outputs": [
        {
          "output_type": "stream",
          "name": "stdout",
          "text": [
            "Tokenizing premises...\n",
            "Tokenizing hypotheses...\n",
            "Example tokenized premise: ['pluto', 'rotates', 'once', 'on', 'its', 'axis', 'every', '639', 'earth', 'days']\n",
            "Example tokenized hypothesis: ['earth', 'rotates', 'on', 'its', 'axis', 'once', 'times', 'in', 'one', 'day']\n"
          ]
        }
      ]
    },
    {
      "cell_type": "code",
      "source": [
        "#clip very long sequences (recommended)\n",
        "CLIP_LENGTHS = True\n",
        "PREMISE_MAX_LEN_CAP = 512    # adjust if you want\n",
        "HYP_MAX_LEN_CAP = 128             # adjust if you want\n",
        "\n",
        "# Build vocab (train only)\n",
        "PAD_TOKEN = \"<pad>\"\n",
        "UNK_TOKEN = \"<unk>\"\n",
        "word_to_ix = {PAD_TOKEN: 0, UNK_TOKEN: 1}\n",
        "\n",
        "for sent in (train_premise_tokens + train_hypothesis_tokens):\n",
        "    for w in sent:\n",
        "        if w not in word_to_ix:\n",
        "            word_to_ix[w] = len(word_to_ix)\n",
        "\n",
        "PAD_ID = word_to_ix[PAD_TOKEN]   # 0\n",
        "UNK_ID = word_to_ix[UNK_TOKEN]   # 1\n",
        "\n",
        "def to_index(token_lists, to_ix):\n",
        "    unk = to_ix[UNK_TOKEN]\n",
        "    return [[to_ix.get(w, unk) for w in sent] for sent in token_lists]\n",
        "\n",
        "vocab_size = len(word_to_ix)\n",
        "print(\"Vocab size:\", vocab_size)\n",
        "\n",
        "# Now convert all tokens → indices\n",
        "train_premise_idx = to_index(train_premise_tokens, word_to_ix)\n",
        "train_hypothesis_idx = to_index(train_hypothesis_tokens, word_to_ix)\n",
        "test_premise_idx = to_index(test_premise_tokens, word_to_ix)\n",
        "test_hypothesis_idx = to_index(test_hypothesis_tokens, word_to_ix)\n",
        "val_premise_idx = to_index(val_premise_tokens, word_to_ix)\n",
        "val_hypothesis_idx = to_index(val_hypothesis_tokens, word_to_ix)\n",
        "\n",
        "\n",
        "def _clip_lists(seqs, cap):\n",
        "    return [seq[:cap] if len(seq) > cap else seq for seq in seqs]\n",
        "\n",
        "if CLIP_LENGTHS:\n",
        "    train_premise_idx    = _clip_lists(train_premise_idx, PREMISE_MAX_LEN_CAP)\n",
        "    test_premise_idx     = _clip_lists(test_premise_idx, PREMISE_MAX_LEN_CAP)\n",
        "    val_premise_idx      = _clip_lists(val_premise_idx, PREMISE_MAX_LEN_CAP)\n",
        "    train_hypothesis_idx = _clip_lists(train_hypothesis_idx, HYP_MAX_LEN_CAP)\n",
        "    test_hypothesis_idx  = _clip_lists(test_hypothesis_idx, HYP_MAX_LEN_CAP)\n",
        "    val_hypothesis_idx   = _clip_lists(val_hypothesis_idx, HYP_MAX_LEN_CAP)\n",
        "\n",
        "# ==== Sequence length stats ===================================================\n",
        "MAX_LENGTH_PREMISE   = max(len(s) for s in train_premise_idx) if train_premise_idx else 0\n",
        "MAX_LENGTH_HYPOTHESIS = max(len(s) for s in train_hypothesis_idx) if train_hypothesis_idx else 0\n",
        "\n",
        "print(f\"Max premise length (train): {MAX_LENGTH_PREMISE}\")\n",
        "print(f\"Max hypothesis length (train): {MAX_LENGTH_HYPOTHESIS}\")"
      ],
      "metadata": {
        "id": "AIQb31xLAgMI",
        "outputId": "89ec14fa-5490-4d15-c41e-b9031e5ee220",
        "colab": {
          "base_uri": "https://localhost:8080/"
        }
      },
      "execution_count": 48,
      "outputs": [
        {
          "output_type": "stream",
          "name": "stdout",
          "text": [
            "Vocab size: 20499\n",
            "Max premise length (train): 512\n",
            "Max hypothesis length (train): 36\n"
          ]
        }
      ]
    },
    {
      "cell_type": "code",
      "source": [
        "# Labels\n",
        "label_to_ix = {\"entails\": 0, \"neutral\": 1}\n",
        "ix_to_label = {v:k for k,v in label_to_ix.items()}\n",
        "\n",
        "train_labels = [label_to_ix[l] for l in train[\"label\"]]\n",
        "test_labels  = [label_to_ix[l] for l in test[\"label\"]]\n",
        "val_labels   = [label_to_ix[l] for l in validation[\"label\"]]"
      ],
      "metadata": {
        "id": "hDB8VTN6A85C"
      },
      "execution_count": 49,
      "outputs": []
    },
    {
      "cell_type": "code",
      "source": [
        "# Final stats\n",
        "print(f\"Training examples:   {len(train_premise_idx)}\")\n",
        "print(f\"Validation examples: {len(val_premise_idx)}\")\n",
        "print(f\"Test examples:       {len(test_premise_idx)}\")\n",
        "print(f\"Vocabulary size:     {vocab_size}\")\n",
        "print(f\"Num labels:          {len(label_to_ix)}\")"
      ],
      "metadata": {
        "id": "xnNeNBgHBZr5",
        "outputId": "960aa61a-6514-422a-ee22-3eaba898fa81",
        "colab": {
          "base_uri": "https://localhost:8080/"
        }
      },
      "execution_count": 50,
      "outputs": [
        {
          "output_type": "stream",
          "name": "stdout",
          "text": [
            "Training examples:   23088\n",
            "Validation examples: 1304\n",
            "Test examples:       2126\n",
            "Vocabulary size:     20499\n",
            "Num labels:          2\n"
          ]
        }
      ]
    },
    {
      "cell_type": "code",
      "source": [
        "# Sanity printout\n",
        "print(\"Variables are ready for model training!\")\n",
        "print(f\"Vocab size:           {vocab_size}\")\n",
        "print(f\"Max Premise Length:   {MAX_LENGTH_PREMISE}\")\n",
        "print(f\"Max Hypothesis Length:{MAX_LENGTH_HYPOTHESIS}\")\n",
        "print(f\"Label mapping:        {label_to_ix}\")\n",
        "print(f\"Example premise idx:  {train_premise_idx[0][:15]}\")\n"
      ],
      "metadata": {
        "id": "CzMMazqOC4sN",
        "outputId": "ae0f756d-4886-41b5-82dd-24cc2fc7a6ca",
        "colab": {
          "base_uri": "https://localhost:8080/"
        }
      },
      "execution_count": 51,
      "outputs": [
        {
          "output_type": "stream",
          "name": "stdout",
          "text": [
            "Variables are ready for model training!\n",
            "Vocab size:           20499\n",
            "Max Premise Length:   512\n",
            "Max Hypothesis Length:36\n",
            "Label mapping:        {'entails': 0, 'neutral': 1}\n",
            "Example premise idx:  [2, 3, 4, 5, 6, 7, 8, 9, 10, 11]\n"
          ]
        }
      ]
    },
    {
      "cell_type": "code",
      "source": [
        "# check sequence length statistics\n",
        "premise_lens = [len(p) for p in train_premise_idx]\n",
        "hyp_lens = [len(h) for h in train_hypothesis_idx]\n",
        "\n",
        "print(f\"Premise lengths - Max: {max(premise_lens)}, Mean: {np.mean(premise_lens):.1f}, 95th percentile: {np.percentile(premise_lens, 95):.1f}\")\n",
        "print(f\"Hypothesis lengths - Max: {max(hyp_lens)}, Mean: {np.mean(hyp_lens):.1f}, 95th percentile: {np.percentile(hyp_lens, 95):.1f}\")\n",
        "#print(f\"\\nNote: Sequences will be truncated to {200} tokens to manage memory\")"
      ],
      "metadata": {
        "id": "YIkDNLuA7LMF",
        "outputId": "5838a43c-5ca6-4017-93ce-38c063192f6d",
        "colab": {
          "base_uri": "https://localhost:8080/"
        }
      },
      "execution_count": 52,
      "outputs": [
        {
          "output_type": "stream",
          "name": "stdout",
          "text": [
            "Premise lengths - Max: 512, Mean: 17.4, 95th percentile: 33.0\n",
            "Hypothesis lengths - Max: 36, Mean: 11.8, 95th percentile: 20.0\n"
          ]
        }
      ]
    },
    {
      "cell_type": "code",
      "source": [
        "device = torch.device(\"cuda\" if torch.cuda.is_available() else \"cpu\")\n",
        "print(f\" Using device: {device}\")\n"
      ],
      "metadata": {
        "id": "AyPN4wQ37LRK",
        "outputId": "d084875c-8036-43c7-97e8-d05d34a16d82",
        "colab": {
          "base_uri": "https://localhost:8080/"
        }
      },
      "execution_count": 53,
      "outputs": [
        {
          "output_type": "stream",
          "name": "stdout",
          "text": [
            " Using device: cuda\n"
          ]
        }
      ]
    },
    {
      "cell_type": "code",
      "source": [
        "# dataset class\n",
        "class NLIDataset(Dataset):\n",
        "    def __init__(self, premise_idx, hypothesis_idx, labels):\n",
        "        self.premise_idx = premise_idx\n",
        "        self.hypothesis_idx = hypothesis_idx\n",
        "        self.labels = labels\n",
        "\n",
        "    def __len__(self):\n",
        "        return len(self.labels)\n",
        "\n",
        "    def __getitem__(self, idx):\n",
        "        return {\n",
        "            'premise': self.premise_idx[idx],\n",
        "            'hypothesis': self.hypothesis_idx[idx],\n",
        "            'label': self.labels[idx]\n",
        "        }"
      ],
      "metadata": {
        "id": "n3xKam6e7LT4"
      },
      "execution_count": 54,
      "outputs": []
    },
    {
      "cell_type": "code",
      "source": [
        "MAX_SEQ_LENGTH = 400\n",
        "PAD_ID = 0\n",
        "\n",
        "def collate_fn(batch):\n",
        "    premises = [item['premise'][:MAX_LENGTH_PREMISE] for item in batch]\n",
        "    hypotheses = [item['hypothesis'][:MAX_LENGTH_HYPOTHESIS] for item in batch]\n",
        "    labels = [item['label'] for item in batch]\n",
        "\n",
        "    max_premise_len = max(len(p) for p in premises)\n",
        "    max_hypothesis_len = max(len(h) for h in hypotheses)\n",
        "\n",
        "    def pad_to(seqs, L):\n",
        "        return [seq + [PAD_ID]*(L - len(seq)) for seq in seqs]\n",
        "\n",
        "    premises_tensor   = torch.LongTensor(pad_to(premises,   max_premise_len))\n",
        "    hypotheses_tensor = torch.LongTensor(pad_to(hypotheses, max_hypothesis_len))\n",
        "    labels_tensor     = torch.LongTensor(labels)\n",
        "\n",
        "    return premises_tensor, hypotheses_tensor, labels_tensor"
      ],
      "metadata": {
        "id": "iliJTe7MD4XR"
      },
      "execution_count": 55,
      "outputs": []
    },
    {
      "cell_type": "code",
      "source": [
        "# create datasets\n",
        "train_dataset = NLIDataset(train_premise_idx, train_hypothesis_idx, train_labels)\n",
        "val_dataset = NLIDataset(val_premise_idx, val_hypothesis_idx, val_labels)\n",
        "test_dataset = NLIDataset(test_premise_idx, test_hypothesis_idx, test_labels)\n",
        "\n",
        "# hyperparameters - automatically adjust batch size based on GPU\n",
        "BATCH_SIZE = 64 if torch.cuda.is_available() else 32  # use 64 for GPU, 32 for CPU\n",
        "EMBEDDING_DIM = 128\n",
        "HIDDEN_DIM = 256\n",
        "NUM_CLASSES = 2\n",
        "LEARNING_RATE = 0.001\n",
        "NUM_EPOCHS = 10\n",
        "\n",
        "print(f\"Hyperparameters:\")\n",
        "print(f\"  Batch size: {BATCH_SIZE}\")\n",
        "print(f\"  Embedding dim: {EMBEDDING_DIM}\")\n",
        "print(f\"  Hidden dim: {HIDDEN_DIM}\")\n",
        "print(f\"  Learning rate: {LEARNING_RATE}\")\n",
        "print(f\"  Number of epochs: {NUM_EPOCHS}\")\n",
        "\n",
        "# create dataloaders\n",
        "train_loader = DataLoader(train_dataset, batch_size=BATCH_SIZE, shuffle=True, collate_fn=collate_fn)\n",
        "val_loader = DataLoader(val_dataset, batch_size=BATCH_SIZE, shuffle=False, collate_fn=collate_fn)\n",
        "test_loader = DataLoader(test_dataset, batch_size=BATCH_SIZE, shuffle=False, collate_fn=collate_fn)\n",
        "\n",
        "print(f\"\\nDataloaders created:\")\n",
        "print(f\"  Training batches: {len(train_loader)}\")\n",
        "print(f\"  Validation batches: {len(val_loader)}\")\n",
        "print(f\"  Test batches: {len(test_loader)}\")"
      ],
      "metadata": {
        "id": "pU4-KkfAEExg",
        "outputId": "cc3773c9-f79a-4c67-b94d-deb6e323d538",
        "colab": {
          "base_uri": "https://localhost:8080/"
        }
      },
      "execution_count": 56,
      "outputs": [
        {
          "output_type": "stream",
          "name": "stdout",
          "text": [
            "Hyperparameters:\n",
            "  Batch size: 64\n",
            "  Embedding dim: 128\n",
            "  Hidden dim: 256\n",
            "  Learning rate: 0.001\n",
            "  Number of epochs: 10\n",
            "\n",
            "Dataloaders created:\n",
            "  Training batches: 361\n",
            "  Validation batches: 21\n",
            "  Test batches: 34\n"
          ]
        }
      ]
    },
    {
      "cell_type": "markdown",
      "source": [
        "# 2. Model Implementation\n",
        "(You can add as many code blocks and text blocks as you need. However, YOU SHOULD NOT MODIFY the section title)"
      ],
      "metadata": {
        "id": "1FA2ao2l8hOg"
      }
    },
    {
      "cell_type": "code",
      "source": [
        "# Reproducibility\n",
        "import random\n",
        "def set_seed(s=1337):\n",
        "    random.seed(s); np.random.seed(s); torch.manual_seed(s)\n",
        "    if torch.cuda.is_available(): torch.cuda.manual_seed_all(s)\n",
        "set_seed(1337)\n"
      ],
      "metadata": {
        "id": "7cZXT2O-SrzX"
      },
      "execution_count": 57,
      "outputs": []
    },
    {
      "cell_type": "markdown",
      "source": [
        "### Model 1: Siamese BiLSTM"
      ],
      "metadata": {
        "id": "2QHrabakENqY"
      }
    },
    {
      "cell_type": "code",
      "source": [
        "# siamese bilstm model\n",
        "class SiameseBiLSTM(nn.Module):\n",
        "    def __init__(self, vocab_size, embedding_dim, hidden_dim, num_classes):\n",
        "        super(SiameseBiLSTM, self).__init__()\n",
        "\n",
        "        # embedding layer\n",
        "        self.embedding = nn.Embedding(vocab_size, embedding_dim, padding_idx=0)\n",
        "\n",
        "        # bidirectional lstm\n",
        "        self.lstm = nn.LSTM(embedding_dim, hidden_dim, batch_first=True, bidirectional=True)\n",
        "\n",
        "        # classification layers\n",
        "        self.fc1 = nn.Linear(4 * hidden_dim, hidden_dim)\n",
        "        self.fc2 = nn.Linear(hidden_dim, num_classes)\n",
        "        self.dropout = nn.Dropout(0.3)\n",
        "\n",
        "    def encode(self, x):\n",
        "        # embed sequence\n",
        "        embeds = self.embedding(x)\n",
        "\n",
        "        # pass through bilstm\n",
        "        lstm_out, (h_n, c_n) = self.lstm(embeds)\n",
        "\n",
        "        # concat forward and backward final hidden states\n",
        "        hidden = torch.cat((h_n[0], h_n[1]), dim=1)\n",
        "        return hidden\n",
        "\n",
        "    def forward(self, premise, hypothesis):\n",
        "        # encode both sequences with shared encoder\n",
        "        premise_vec = self.encode(premise)\n",
        "        hypothesis_vec = self.encode(hypothesis)\n",
        "\n",
        "        # concatenate encodings\n",
        "        combined = torch.cat((premise_vec, hypothesis_vec), dim=1)\n",
        "\n",
        "        # classification\n",
        "        out = torch.relu(self.fc1(combined))\n",
        "        out = self.dropout(out)\n",
        "        out = self.fc2(out)\n",
        "        return out"
      ],
      "metadata": {
        "id": "yf8xqk-Qj8Cf"
      },
      "execution_count": 58,
      "outputs": []
    },
    {
      "cell_type": "code",
      "source": [
        "# initialize model\n",
        "model = SiameseBiLSTM(vocab_size, EMBEDDING_DIM, HIDDEN_DIM, NUM_CLASSES).to(device)\n",
        "criterion = nn.CrossEntropyLoss()\n",
        "optimizer = optim.Adam(model.parameters(), lr=LEARNING_RATE)\n",
        "\n",
        "print(\"Model initialized\")\n",
        "print(f\"Total parameters: {sum(p.numel() for p in model.parameters())}\")"
      ],
      "metadata": {
        "colab": {
          "base_uri": "https://localhost:8080/"
        },
        "id": "hgVwwCbZkcvu",
        "outputId": "29d07c40-2eca-4f0a-d2fa-dfb31d435849"
      },
      "execution_count": 59,
      "outputs": [
        {
          "output_type": "stream",
          "name": "stdout",
          "text": [
            "Model initialized\n",
            "Total parameters: 3677314\n"
          ]
        }
      ]
    },
    {
      "cell_type": "code",
      "source": [
        "# training function\n",
        "def train_epoch(model, dataloader, criterion, optimizer, device):\n",
        "    model.train()\n",
        "    total_loss = 0\n",
        "    all_preds = []\n",
        "    all_labels = []\n",
        "\n",
        "    for premises, hypotheses, labels in dataloader:\n",
        "        premises = premises.to(device)\n",
        "        hypotheses = hypotheses.to(device)\n",
        "        labels = labels.to(device)\n",
        "\n",
        "        optimizer.zero_grad()\n",
        "        outputs = model(premises, hypotheses)\n",
        "        loss = criterion(outputs, labels)\n",
        "        loss.backward()\n",
        "        optimizer.step()\n",
        "\n",
        "        total_loss += loss.item()\n",
        "\n",
        "        # get predictions\n",
        "        preds = torch.argmax(outputs, dim=1)\n",
        "        all_preds.extend(preds.cpu().numpy())\n",
        "        all_labels.extend(labels.cpu().numpy())\n",
        "\n",
        "    avg_loss = total_loss / len(dataloader)\n",
        "    accuracy = accuracy_score(all_labels, all_preds)\n",
        "    return avg_loss, accuracy"
      ],
      "metadata": {
        "id": "WmXNX2qXkc8n"
      },
      "execution_count": 60,
      "outputs": []
    },
    {
      "cell_type": "code",
      "source": [
        "# evaluation function\n",
        "def evaluate(model, dataloader, criterion, device):\n",
        "    model.eval()\n",
        "    total_loss = 0\n",
        "    all_preds = []\n",
        "    all_labels = []\n",
        "\n",
        "    with torch.no_grad():\n",
        "        for premises, hypotheses, labels in dataloader:\n",
        "            premises = premises.to(device)\n",
        "            hypotheses = hypotheses.to(device)\n",
        "            labels = labels.to(device)\n",
        "\n",
        "            outputs = model(premises, hypotheses)\n",
        "            loss = criterion(outputs, labels)\n",
        "\n",
        "            total_loss += loss.item()\n",
        "\n",
        "            preds = torch.argmax(outputs, dim=1)\n",
        "            all_preds.extend(preds.cpu().numpy())\n",
        "            all_labels.extend(labels.cpu().numpy())\n",
        "\n",
        "    avg_loss = total_loss / len(dataloader)\n",
        "    accuracy = accuracy_score(all_labels, all_preds)\n",
        "    return avg_loss, accuracy, all_preds, all_labels"
      ],
      "metadata": {
        "id": "rXYMaCdhkwRH"
      },
      "execution_count": 61,
      "outputs": []
    },
    {
      "cell_type": "code",
      "source": [
        "# training loop\n",
        "best_val_acc = 0\n",
        "train_losses = []\n",
        "val_losses = []\n",
        "train_accs = []\n",
        "val_accs = []\n",
        "\n",
        "for epoch in range(NUM_EPOCHS):\n",
        "    train_loss, train_acc = train_epoch(model, train_loader, criterion, optimizer, device)\n",
        "    val_loss, val_acc, _, _ = evaluate(model, val_loader, criterion, device)\n",
        "\n",
        "    train_losses.append(train_loss)\n",
        "    val_losses.append(val_loss)\n",
        "    train_accs.append(train_acc)\n",
        "    val_accs.append(val_acc)\n",
        "\n",
        "    print(f\"Epoch {epoch+1}/{NUM_EPOCHS}\")\n",
        "    print(f\"Train Loss: {train_loss:.4f}, Train Acc: {train_acc:.4f}\")\n",
        "    print(f\"Val Loss: {val_loss:.4f}, Val Acc: {val_acc:.4f}\")\n",
        "    print(\"-\" * 50)\n",
        "\n",
        "    # save best model\n",
        "    if val_acc > best_val_acc:\n",
        "        best_val_acc = val_acc\n",
        "        torch.save(model.state_dict(), 'best_siamese_bilstm.pth')\n",
        "        print(f\"Best model saved with validation accuracy: {best_val_acc:.4f}\")\n",
        "    print()"
      ],
      "metadata": {
        "colab": {
          "base_uri": "https://localhost:8080/"
        },
        "id": "qaEQaAeYkwWX",
        "outputId": "e97c724b-5598-4018-9fbe-6da4a7b578e1"
      },
      "execution_count": 62,
      "outputs": [
        {
          "output_type": "stream",
          "name": "stdout",
          "text": [
            "Epoch 1/10\n",
            "Train Loss: 0.5032, Train Acc: 0.7526\n",
            "Val Loss: 0.5784, Val Acc: 0.6656\n",
            "--------------------------------------------------\n",
            "Best model saved with validation accuracy: 0.6656\n",
            "\n",
            "Epoch 2/10\n",
            "Train Loss: 0.3519, Train Acc: 0.8468\n",
            "Val Loss: 0.5943, Val Acc: 0.6840\n",
            "--------------------------------------------------\n",
            "Best model saved with validation accuracy: 0.6840\n",
            "\n",
            "Epoch 3/10\n",
            "Train Loss: 0.2594, Train Acc: 0.8903\n",
            "Val Loss: 0.6061, Val Acc: 0.7048\n",
            "--------------------------------------------------\n",
            "Best model saved with validation accuracy: 0.7048\n",
            "\n",
            "Epoch 4/10\n",
            "Train Loss: 0.1719, Train Acc: 0.9288\n",
            "Val Loss: 0.7197, Val Acc: 0.7078\n",
            "--------------------------------------------------\n",
            "Best model saved with validation accuracy: 0.7078\n",
            "\n",
            "Epoch 5/10\n",
            "Train Loss: 0.0958, Train Acc: 0.9628\n",
            "Val Loss: 1.0207, Val Acc: 0.7017\n",
            "--------------------------------------------------\n",
            "\n",
            "Epoch 6/10\n",
            "Train Loss: 0.0543, Train Acc: 0.9806\n",
            "Val Loss: 1.2284, Val Acc: 0.7009\n",
            "--------------------------------------------------\n",
            "\n",
            "Epoch 7/10\n",
            "Train Loss: 0.0328, Train Acc: 0.9887\n",
            "Val Loss: 1.6158, Val Acc: 0.6817\n",
            "--------------------------------------------------\n",
            "\n",
            "Epoch 8/10\n",
            "Train Loss: 0.0239, Train Acc: 0.9923\n",
            "Val Loss: 1.6572, Val Acc: 0.6948\n",
            "--------------------------------------------------\n",
            "\n",
            "Epoch 9/10\n",
            "Train Loss: 0.0219, Train Acc: 0.9925\n",
            "Val Loss: 1.5754, Val Acc: 0.6917\n",
            "--------------------------------------------------\n",
            "\n",
            "Epoch 10/10\n",
            "Train Loss: 0.0182, Train Acc: 0.9946\n",
            "Val Loss: 1.7329, Val Acc: 0.7025\n",
            "--------------------------------------------------\n",
            "\n"
          ]
        }
      ]
    },
    {
      "cell_type": "code",
      "source": [
        "# plot training history\n",
        "fig, (ax1, ax2) = plt.subplots(1, 2, figsize=(12, 4))\n",
        "\n",
        "# plot loss\n",
        "ax1.plot(train_losses, label='Train Loss')\n",
        "ax1.plot(val_losses, label='Val Loss')\n",
        "ax1.set_xlabel('Epoch')\n",
        "ax1.set_ylabel('Loss')\n",
        "ax1.set_title('Training and Validation Loss')\n",
        "ax1.legend()\n",
        "\n",
        "# plot accuracy\n",
        "ax2.plot(train_accs, label='Train Acc')\n",
        "ax2.plot(val_accs, label='Val Acc')\n",
        "ax2.set_xlabel('Epoch')\n",
        "ax2.set_ylabel('Accuracy')\n",
        "ax2.set_title('Training and Validation Accuracy')\n",
        "ax2.legend()\n",
        "\n",
        "plt.tight_layout()\n",
        "plt.show()"
      ],
      "metadata": {
        "colab": {
          "base_uri": "https://localhost:8080/",
          "height": 394
        },
        "id": "A7LrSqihlGxs",
        "outputId": "1a46f75a-f1be-41a4-d224-d07252dd08da"
      },
      "execution_count": 63,
      "outputs": [
        {
          "output_type": "display_data",
          "data": {
            "text/plain": [
              "<Figure size 1200x400 with 2 Axes>"
            ],
            "image/png": "[encoded data removed]"
          },
          "metadata": {}
        }
      ]
    },
    {
      "cell_type": "code",
      "source": [],
      "metadata": {
        "id": "wkkyEd0SlG1V"
      },
      "execution_count": 63,
      "outputs": []
    },
    {
      "cell_type": "code",
      "source": [],
      "metadata": {
        "id": "vGjIo3kClG4V"
      },
      "execution_count": 63,
      "outputs": []
    },
    {
      "cell_type": "markdown",
      "source": [
        "### Model 2: Encoder-Decoder\n",
        "*In both variants, the premise and hypothesis sentences are first tokenized, embedded, and processed. Model 2A applies self-attention on the encoder side, using an additive attention layer to highlight salient words within the premise before combining it with the hypothesis representation. Model 2B instead adopts decoder-side (Bahdanau) cross-attention, where each decoding step for the hypothesis dynamically attends to the encoded premise states, creating explicit word-to-word alignment between the two sentences. Both models share the same preprocessing pipeline, embedding dimension, hidden size, and training loop as the baseline BiLSTM, ensuring a fair comparison. We evaluate both variants on the same NLI dataset and include attention-weight visualizations to qualitatively analyse how each model focuses on relevant premise tokens during inference.*"
      ],
      "metadata": {
        "id": "OeZn4lscEv86"
      }
    },
    {
      "cell_type": "code",
      "source": [
        "# Common training/eval utilities (reuse across models)\n",
        "criterion = nn.CrossEntropyLoss()  # or with label_smoothing=0.05\n",
        "def train_epoch(model, dataloader, criterion, optimizer, device):\n",
        "    model.train(); tot=0; preds=[]; gold=[]\n",
        "    for prem, hyp, y in dataloader:\n",
        "        prem, hyp, y = prem.to(device), hyp.to(device), y.to(device)\n",
        "        optimizer.zero_grad()\n",
        "        logits, _ = model(prem, hyp)\n",
        "        loss = criterion(logits, y)\n",
        "        loss.backward()\n",
        "        nn.utils.clip_grad_norm_(model.parameters(), 1.0)\n",
        "        optimizer.step()\n",
        "        tot += loss.item()\n",
        "        preds.extend(logits.argmax(1).detach().cpu().numpy())\n",
        "        gold.extend(y.cpu().numpy())\n",
        "    return tot/len(dataloader), accuracy_score(gold, preds)\n",
        "\n",
        "@torch.no_grad()\n",
        "def evaluate(model, dataloader, criterion, device):\n",
        "    model.eval(); tot=0; preds=[]; gold=[]\n",
        "    for prem, hyp, y in dataloader:\n",
        "        prem, hyp, y = prem.to(device), hyp.to(device), y.to(device)\n",
        "        logits, _ = model(prem, hyp)\n",
        "        loss = criterion(logits, y)\n",
        "        tot += loss.item()\n",
        "        preds.extend(logits.argmax(1).cpu().numpy())\n",
        "        gold.extend(y.cpu().numpy())\n",
        "    return tot/len(dataloader), accuracy_score(gold, preds), preds, gold\n"
      ],
      "metadata": {
        "id": "0ctorphNUIOc"
      },
      "execution_count": 64,
      "outputs": []
    },
    {
      "cell_type": "markdown",
      "source": [
        "####Model 2A — Encoder-side attention (self-attn over premise)"
      ],
      "metadata": {
        "id": "Q4gpXmeHTPR6"
      }
    },
    {
      "cell_type": "code",
      "source": [
        "\n",
        "class SelfAttentionPool(nn.Module):\n",
        "    def __init__(self, dim):\n",
        "        super().__init__()\n",
        "        self.W = nn.Linear(dim, dim)\n",
        "        self.v = nn.Linear(dim, 1, bias=False)\n",
        "    def forward(self, H, mask):\n",
        "        scores = self.v(torch.tanh(self.W(H))).squeeze(-1)\n",
        "        scores = scores.masked_fill(mask == 0, -1e9)\n",
        "        all_pad = (mask.sum(1) == 0)\n",
        "        if all_pad.any():\n",
        "            scores[all_pad] = -1e9; scores[all_pad,0] = 0.0\n",
        "        alpha = torch.softmax(scores, dim=-1)\n",
        "        p_star = torch.bmm(alpha.unsqueeze(1), H).squeeze(1)\n",
        "        return p_star, alpha\n",
        "\n",
        "class EncoderSideAttentionNLI(nn.Module):\n",
        "    def __init__(self, vocab_size, emb_dim, hid_dim, num_classes, pad_idx=0, dropout=0.3):\n",
        "        super().__init__()\n",
        "        self.embedding = nn.Embedding(vocab_size, emb_dim, padding_idx=pad_idx)\n",
        "        self.enc_p = nn.LSTM(emb_dim, hid_dim, batch_first=True, bidirectional=True)\n",
        "        self.enc_h = nn.LSTM(emb_dim, hid_dim, batch_first=True, bidirectional=True)\n",
        "        self.pool_p = SelfAttentionPool(2*hid_dim)\n",
        "        self.dropout = nn.Dropout(dropout)\n",
        "        self.fc1 = nn.Linear(8*hid_dim, 2*hid_dim)\n",
        "        self.fc2 = nn.Linear(2*hid_dim, num_classes)\n",
        "    def _mask(self, x): return (x != 0).long()\n",
        "    def _encode(self, x, lstm):\n",
        "        H, _ = lstm(self.embedding(x))\n",
        "        return H\n",
        "    def _max_pool(self, H, mask):\n",
        "        masked = H.masked_fill(mask.unsqueeze(-1)==0, float('-inf'))\n",
        "        pooled = masked.max(1).values\n",
        "        is_all_pad = (mask.sum(1) == 0)\n",
        "        if is_all_pad.any(): pooled[is_all_pad] = 0.0\n",
        "        return pooled\n",
        "    def forward(self, prem_ids, hyp_ids):\n",
        "        prem_mask, hyp_mask = self._mask(prem_ids), self._mask(hyp_ids)\n",
        "        H_p = self._encode(prem_ids, self.enc_p)\n",
        "        p_star, alpha = self.pool_p(H_p, prem_mask)\n",
        "        H_h = self._encode(hyp_ids, self.enc_h)\n",
        "        h_star = self._max_pool(H_h, hyp_mask)\n",
        "        z = torch.cat([p_star, h_star, torch.abs(p_star-h_star), p_star*h_star], dim=-1)\n",
        "        out = self.dropout(torch.relu(self.fc1(z)))\n",
        "        logits = self.fc2(out)\n",
        "        return logits, alpha\n"
      ],
      "metadata": {
        "id": "7Z7cSpx3I8kz"
      },
      "execution_count": 65,
      "outputs": []
    },
    {
      "cell_type": "code",
      "source": [
        "model_2a = EncoderSideAttentionNLI(vocab_size, EMBEDDING_DIM, HIDDEN_DIM, NUM_CLASSES, pad_idx=0).to(device)\n",
        "opt_2a = optim.Adam(model_2a.parameters(), lr=LEARNING_RATE)\n",
        "best = 0.0\n",
        "for e in range(NUM_EPOCHS):\n",
        "    tr_l,tr_a = train_epoch(model_2a, train_loader, criterion, opt_2a, device)\n",
        "    va_l,va_a,_,_ = evaluate(model_2a, val_loader, criterion, device)\n",
        "    print(f\"[2A] {e+1}: train {tr_l:.4f}/{tr_a:.4f} | val {va_l:.4f}/{va_a:.4f}\")\n",
        "    if va_a>best: best=va_a; torch.save(model_2a.state_dict(),\"best_model_2a.pth\")\n",
        "# test\n",
        "model_2a.load_state_dict(torch.load(\"best_model_2a.pth\"))\n",
        "tl, ta, tp, tt = evaluate(model_2a, test_loader, criterion, device)\n",
        "print(f\"[2A] Test: loss {tl:.4f} acc {ta:.4f}\")\n",
        "print(classification_report(tt, tp, target_names=['entails','neutral'], zero_division=0))\n"
      ],
      "metadata": {
        "colab": {
          "base_uri": "https://localhost:8080/"
        },
        "id": "0klqGi6JT7zp",
        "outputId": "9876bdd4-3dda-4002-b1e7-2978bb65d859"
      },
      "execution_count": 66,
      "outputs": [
        {
          "output_type": "stream",
          "name": "stdout",
          "text": [
            "[2A] 1: train 0.4918/0.7614 | val 0.6281/0.6794\n",
            "[2A] 2: train 0.3489/0.8506 | val 0.5911/0.6917\n",
            "[2A] 3: train 0.2522/0.8957 | val 0.6248/0.7040\n",
            "[2A] 4: train 0.1475/0.9439 | val 0.8744/0.6994\n",
            "[2A] 5: train 0.0733/0.9739 | val 1.1064/0.6933\n",
            "[2A] 6: train 0.0389/0.9869 | val 1.2855/0.6994\n",
            "[2A] 7: train 0.0277/0.9912 | val 1.3430/0.6956\n",
            "[2A] 8: train 0.0227/0.9927 | val 1.6391/0.6833\n",
            "[2A] 9: train 0.0181/0.9944 | val 1.6750/0.7132\n",
            "[2A] 10: train 0.0176/0.9951 | val 1.7142/0.6940\n",
            "[2A] Test: loss 1.8506 acc 0.6990\n",
            "              precision    recall  f1-score   support\n",
            "\n",
            "     entails       0.65      0.53      0.58       842\n",
            "     neutral       0.72      0.81      0.76      1284\n",
            "\n",
            "    accuracy                           0.70      2126\n",
            "   macro avg       0.69      0.67      0.67      2126\n",
            "weighted avg       0.69      0.70      0.69      2126\n",
            "\n"
          ]
        }
      ]
    },
    {
      "cell_type": "markdown",
      "source": [
        "####Model 2B — Decoder-side (Bahdanau cross-attn)"
      ],
      "metadata": {
        "id": "j68BW_owTb8K"
      }
    },
    {
      "cell_type": "code",
      "source": [
        "class BahdanauAttention(nn.Module):\n",
        "    def __init__(self, dim):\n",
        "        super().__init__()\n",
        "        self.W_h = nn.Linear(dim, dim, bias=False)\n",
        "        self.W_s = nn.Linear(dim, dim, bias=False)\n",
        "        self.v   = nn.Linear(dim, 1,  bias=False)\n",
        "\n",
        "    def forward(self, Hk, q, mask):\n",
        "        scores = self.v(torch.tanh(self.W_h(Hk) + self.W_s(q).unsqueeze(1))).squeeze(-1)\n",
        "        scores = scores.masked_fill(mask==0, -1e9)\n",
        "        all_pad = (mask.sum(1)==0)\n",
        "        if all_pad.any():\n",
        "            scores[all_pad] = -1e9; scores[all_pad,0] = 0.0\n",
        "        alpha = torch.softmax(scores, dim=-1)\n",
        "        ctx = torch.bmm(alpha.unsqueeze(1), Hk).squeeze(1)\n",
        "        return ctx, alpha\n",
        "\n",
        "class DecoderSideAttentionNLI(nn.Module):\n",
        "    def __init__(self, vocab_size, emb_dim, hid_dim, num_classes, pad_idx=0, dropout=0.4):\n",
        "        super().__init__()\n",
        "        self.embedding = nn.Embedding(vocab_size, emb_dim, padding_idx=pad_idx)\n",
        "        self.enc_p = nn.LSTM(emb_dim, hid_dim, batch_first=True, bidirectional=True)\n",
        "        self.dec_h = nn.LSTM(emb_dim + 2*hid_dim, hid_dim, batch_first=True)\n",
        "        self.attn  = BahdanauAttention(2*hid_dim)\n",
        "        self.proj_q = nn.Linear(hid_dim, 2*hid_dim, bias=False)\n",
        "        self.dropout = nn.Dropout(dropout)\n",
        "        self.fc1 = nn.Linear(hid_dim + 2*hid_dim, 2*hid_dim)\n",
        "        self.fc2 = nn.Linear(2*hid_dim, num_classes)\n",
        "\n",
        "    def forward(self, prem_ids, hyp_ids):\n",
        "        B, Th = hyp_ids.size(0), hyp_ids.size(1)\n",
        "        prem_mask = (prem_ids != 0).long()\n",
        "        H_p, _ = self.enc_p(self.embedding(prem_ids))\n",
        "        emb_h = self.embedding(hyp_ids)\n",
        "        h_t = torch.zeros(1,B,self.dec_h.hidden_size, device=emb_h.device)\n",
        "        c_t = torch.zeros(1,B,self.dec_h.hidden_size, device=emb_h.device)\n",
        "        ctx_prev = torch.zeros(B, H_p.size(-1), device=emb_h.device)\n",
        "        outs, attn_all = [], []\n",
        "        for t in range(Th):\n",
        "            dec_in = torch.cat([emb_h[:,t,:], ctx_prev], dim=-1).unsqueeze(1)\n",
        "            dec_out, (h_t,c_t) = self.dec_h(dec_in, (h_t,c_t))\n",
        "            s_t = dec_out.squeeze(1)\n",
        "            q_t = self.proj_q(s_t)\n",
        "            ctx_t, alpha_t = self.attn(H_p, q_t, prem_mask)\n",
        "            outs.append(torch.cat([s_t, ctx_t], dim=-1))\n",
        "            attn_all.append(alpha_t.unsqueeze(1))\n",
        "            ctx_prev = ctx_t\n",
        "        dec_stack = torch.stack(outs, dim=1)\n",
        "        hyp_mask = (hyp_ids != 0).long()\n",
        "        mask3 = hyp_mask.unsqueeze(-1).float()\n",
        "        g = (dec_stack*mask3).sum(1) / hyp_mask.sum(1).clamp(min=1).unsqueeze(-1).float()\n",
        "        out = self.dropout(torch.relu(self.fc1(g)))\n",
        "        logits = self.fc2(out)\n",
        "        A = torch.cat(attn_all, dim=1) if attn_all else None\n",
        "        return logits, A\n"
      ],
      "metadata": {
        "id": "54KzKQuRTavY"
      },
      "execution_count": 67,
      "outputs": []
    },
    {
      "cell_type": "code",
      "source": [
        "model_2b = DecoderSideAttentionNLI(vocab_size, EMBEDDING_DIM, HIDDEN_DIM, NUM_CLASSES, pad_idx=0).to(device)\n",
        "opt_2b = optim.Adam(model_2b.parameters(), lr=LEARNING_RATE, weight_decay=1e-5)\n",
        "best=0.0; patience, wait = 3, 0\n",
        "\n",
        "for e in range(NUM_EPOCHS):\n",
        "    tr_l,tr_a = train_epoch(model_2b, train_loader, criterion, opt_2b, device)\n",
        "    va_l,va_a,_,_ = evaluate(model_2b, val_loader, criterion, device)\n",
        "    print(f\"[2B] {e+1}: train {tr_l:.4f}/{tr_a:.4f} | val {va_l:.4f}/{va_a:.4f}\")\n",
        "    if va_a>best: best, wait = va_a, 0; torch.save(model_2b.state_dict(),\"best_model_2b.pth\")\n",
        "\n",
        "model_2b.load_state_dict(torch.load(\"best_model_2b.pth\"))\n",
        "tl, ta, tp, tt = evaluate(model_2b, test_loader, criterion, device)\n",
        "print(f\"[2B] Test: loss {tl:.4f} acc {ta:.4f}\")\n",
        "print(classification_report(tt, tp, target_names=['entails','neutral'], zero_division=0))\n",
        "\n"
      ],
      "metadata": {
        "colab": {
          "base_uri": "https://localhost:8080/"
        },
        "id": "rNfCYOm1UxSo",
        "outputId": "5378b18d-9444-4cba-ae16-bc597dba5c7b"
      },
      "execution_count": null,
      "outputs": [
        {
          "output_type": "stream",
          "name": "stdout",
          "text": [
            "[2B] 1: train 0.5148/0.7428 | val 0.5613/0.6979\n",
            "[2B] 2: train 0.3656/0.8407 | val 0.5258/0.7224\n",
            "[2B] 3: train 0.2826/0.8804 | val 0.6629/0.6994\n",
            "[2B] 4: train 0.2051/0.9163 | val 0.8712/0.6879\n",
            "[2B] 5: train 0.1387/0.9439 | val 0.9687/0.7109\n"
          ]
        }
      ]
    },
    {
      "cell_type": "code",
      "source": [],
      "metadata": {
        "id": "kg7213_4sA0C"
      },
      "execution_count": 68,
      "outputs": []
    },
    {
      "cell_type": "markdown",
      "source": [
        "### Model 3: Transformer"
      ],
      "metadata": {
        "id": "DLZmQkGeEwGq"
      }
    },
    {
      "cell_type": "code",
      "source": [
        "PADDING_IDX = 0\n",
        "CLS_IDX = vocab_size          # new id after existing vocab\n",
        "SEP_IDX = vocab_size + 1      # new id after existing vocab\n",
        "VOCAB_SIZE = vocab_size + 2   # total size including CLS/SEP\n",
        "\n",
        "# ----- Build concatenated sequences: [CLS] premise [SEP] hypothesis [SEP] -----\n",
        "MAX_SEQ_LEN = 256\n",
        "\n",
        "def concatenate_and_pad(p_idx_list, h_idx_list, max_len, padding_idx, cls_idx, sep_idx):\n",
        "    combined_sequences = []\n",
        "    for p_idx, h_idx in zip(p_idx_list, h_idx_list):\n",
        "        combined = [cls_idx] + p_idx + [sep_idx] + h_idx + [sep_idx]\n",
        "        if len(combined) > max_len:\n",
        "            combined = combined[:max_len]\n",
        "        elif len(combined) < max_len:\n",
        "            combined = combined + [padding_idx] * (max_len - len(combined))\n",
        "        combined_sequences.append(combined)\n",
        "    return combined_sequences\n",
        "\n",
        "print(f\"Concatenation & padding sequences to {MAX_SEQ_LEN}...\")\n",
        "train_sequence_idx = concatenate_and_pad(train_premise_idx, train_hypothesis_idx, MAX_SEQ_LEN, PADDING_IDX, CLS_IDX, SEP_IDX)\n",
        "val_sequence_idx   = concatenate_and_pad(val_premise_idx,   val_hypothesis_idx,   MAX_SEQ_LEN, PADDING_IDX, CLS_IDX, SEP_IDX)\n",
        "test_sequence_idx  = concatenate_and_pad(test_premise_idx,  test_hypothesis_idx,  MAX_SEQ_LEN, PADDING_IDX, CLS_IDX, SEP_IDX)\n",
        "print(\"Concatenation & padding complete.\")\n"
      ],
      "metadata": {
        "id": "I3Vh-He1ci9u",
        "colab": {
          "base_uri": "https://localhost:8080/"
        },
        "outputId": "19a3a76d-9eb8-43b5-aa2a-cd35e9a03ee2"
      },
      "execution_count": 69,
      "outputs": [
        {
          "output_type": "stream",
          "name": "stdout",
          "text": [
            "Concatenation & padding sequences to 256...\n",
            "Concatenation & padding complete.\n"
          ]
        }
      ]
    },
    {
      "cell_type": "code",
      "source": [
        "class PositionalEncoding(nn.Module):\n",
        "    def __init__(self, d_model: int, dropout: float = 0.1, max_len: int = 5000):\n",
        "        super().__init__()\n",
        "        self.dropout = nn.Dropout(p=dropout)\n",
        "        pe = torch.zeros(max_len, d_model)\n",
        "        position = torch.arange(0, max_len, dtype=torch.float).unsqueeze(1)\n",
        "        div_term = torch.exp(torch.arange(0, d_model, 2).float() * (-math.log(10000.0) / d_model))\n",
        "        pe[:, 0::2] = torch.sin(position * div_term)\n",
        "        pe[:, 1::2] = torch.cos(position * div_term)\n",
        "        self.register_buffer('pe', pe.unsqueeze(0))  # [1, max_len, d_model]\n",
        "    def forward(self, x: torch.Tensor) -> torch.Tensor:     # x: [B,T,E]\n",
        "        x = x + self.pe[:, :x.size(1), :]\n",
        "        return self.dropout(x)\n",
        "\n",
        "def create_padding_mask(input_indices, padding_idx):\n",
        "    return (input_indices == padding_idx)\n",
        "\n",
        "# ----- Dataset -----\n",
        "class NliDataset(Dataset):\n",
        "    def __init__(self, sequence_idx, labels):\n",
        "        self.sequence_idx = torch.tensor(np.array(sequence_idx), dtype=torch.long)\n",
        "        self.labels = torch.tensor(np.array(labels), dtype=torch.long)\n",
        "    def __len__(self):\n",
        "        return len(self.labels)\n",
        "    def __getitem__(self, idx):\n",
        "        return self.sequence_idx[idx], self.labels[idx]"
      ],
      "metadata": {
        "id": "6jA9b4lnof3U"
      },
      "execution_count": 70,
      "outputs": []
    },
    {
      "cell_type": "code",
      "source": [
        "class Transformer(nn.Module):\n",
        "    def __init__(self, vocab_size, embedding_dim, max_seq_len, num_layers, num_heads,\n",
        "                 dim_feedforward, dropout, num_classes, padding_idx):\n",
        "        super().__init__()\n",
        "        self.padding_idx = padding_idx\n",
        "        self.embedding = nn.Embedding(vocab_size, embedding_dim, padding_idx=padding_idx)\n",
        "        self.pos_encoder = PositionalEncoding(embedding_dim, dropout, max_len=max_seq_len)\n",
        "\n",
        "        encoder_layer = nn.TransformerEncoderLayer(\n",
        "            d_model=embedding_dim,\n",
        "            nhead=num_heads,\n",
        "            dim_feedforward=dim_feedforward,\n",
        "            dropout=dropout,\n",
        "            batch_first=True,          # use [B,T,E]\n",
        "            activation='gelu'\n",
        "        )\n",
        "        self.transformer_encoder = nn.TransformerEncoder(encoder_layer, num_layers)\n",
        "\n",
        "        self.classifier = nn.Sequential(\n",
        "            nn.Dropout(dropout),\n",
        "            nn.Linear(embedding_dim, dim_feedforward),\n",
        "            nn.ReLU(),\n",
        "            nn.Dropout(dropout),\n",
        "            nn.Linear(dim_feedforward, num_classes)\n",
        "        )\n",
        "        self.init_weights()\n",
        "\n",
        "    def init_weights(self):\n",
        "        initrange = 0.1\n",
        "        # Only init the classifier explicitly; embeddings/encoder use defaults\n",
        "        for name, param in self.named_parameters():\n",
        "            if 'classifier' in name and 'weight' in name:\n",
        "                nn.init.uniform_(param, -initrange, initrange)\n",
        "            elif 'classifier' in name and 'bias' in name:\n",
        "                nn.init.zeros_(param)\n",
        "\n",
        "    def forward(self, combined_ix):                         # combined_ix: [B,T]\n",
        "        key_padding_mask = create_padding_mask(combined_ix, self.padding_idx)  # [B,T] True at PAD\n",
        "        x = self.embedding(combined_ix)                    # [B,T,E]\n",
        "        x = self.pos_encoder(x)                            # [B,T,E]\n",
        "        enc = self.transformer_encoder(x, src_key_padding_mask=key_padding_mask)  # [B,T,E]\n",
        "        cls_vec = enc[:, 0, :]                             # take [CLS] position\n",
        "        logits = self.classifier(cls_vec)                  # [B,2]\n",
        "        return logits"
      ],
      "metadata": {
        "id": "uVdZWMOnokSB"
      },
      "execution_count": 71,
      "outputs": []
    },
    {
      "cell_type": "code",
      "source": [
        "EMBEDDING_DIM    = 256\n",
        "NUM_LAYERS       = 3\n",
        "NUM_HEADS        = 4\n",
        "DIM_FEEDFORWARD  = 4 * EMBEDDING_DIM\n",
        "DROPOUT          = 0.1\n",
        "NUM_CLASSES      = 2\n",
        "LEARNING_RATE    = 1e-4\n",
        "BATCH_SIZE       = 32\n",
        "NUM_EPOCHS       = 10\n",
        "MODEL_SAVE_PATH  = \"best_transformer.pth\"\n",
        "\n",
        "# ----- Model, criterion, optim -----\n",
        "transformer_model = Transformer(\n",
        "    vocab_size=VOCAB_SIZE,\n",
        "    embedding_dim=EMBEDDING_DIM,\n",
        "    max_seq_len=MAX_SEQ_LEN,\n",
        "    num_layers=NUM_LAYERS,\n",
        "    num_heads=NUM_HEADS,\n",
        "    dim_feedforward=DIM_FEEDFORWARD,\n",
        "    dropout=DROPOUT,\n",
        "    num_classes=NUM_CLASSES,\n",
        "    padding_idx=PADDING_IDX\n",
        ").to(device)\n",
        "\n",
        "criterion = nn.CrossEntropyLoss()\n",
        "optimizer = optim.Adam(transformer_model.parameters(), lr=LEARNING_RATE, weight_decay=1e-5)\n",
        "\n",
        "# ----- DataLoaders -----\n",
        "train_dataset = NliDataset(train_sequence_idx, train_labels)\n",
        "val_dataset   = NliDataset(val_sequence_idx,   val_labels)\n",
        "test_dataset  = NliDataset(test_sequence_idx,  test_labels)\n",
        "\n",
        "train_loader = DataLoader(train_dataset, batch_size=BATCH_SIZE, shuffle=True)\n",
        "val_loader   = DataLoader(val_dataset,   batch_size=BATCH_SIZE, shuffle=False)\n",
        "test_loader  = DataLoader(test_dataset,  batch_size=BATCH_SIZE, shuffle=False)\n",
        "\n",
        "# ----- Train / Eval loops -----\n",
        "def train_one_epoch(model, dataloader, criterion, optimizer, device):\n",
        "    model.train()\n",
        "    total_loss = 0.0\n",
        "    for seqs, labels in dataloader:\n",
        "        seqs, labels = seqs.to(device), labels.to(device)\n",
        "        optimizer.zero_grad()\n",
        "        logits = model(seqs)\n",
        "        loss = criterion(logits, labels)\n",
        "        loss.backward()\n",
        "        nn.utils.clip_grad_norm_(model.parameters(), max_norm=1.0)\n",
        "        optimizer.step()\n",
        "        total_loss += loss.item()\n",
        "    return total_loss / max(1, len(dataloader))\n",
        "\n",
        "@torch.no_grad()\n",
        "def evaluate_model(model, dataloader, criterion, device):\n",
        "    model.eval()\n",
        "    total_loss = 0.0\n",
        "    all_preds, all_labels = [], []\n",
        "    for seqs, labels in dataloader:\n",
        "        seqs, labels = seqs.to(device), labels.to(device)\n",
        "        logits = model(seqs)\n",
        "        loss = criterion(logits, labels)\n",
        "        total_loss += loss.item()\n",
        "        preds = torch.argmax(logits, dim=1)\n",
        "        all_preds.extend(preds.cpu().numpy())\n",
        "        all_labels.extend(labels.cpu().numpy())\n",
        "    acc = accuracy_score(all_labels, all_preds)\n",
        "    return total_loss / max(1, len(dataloader)), acc, all_preds, all_labels\n",
        "\n",
        "# ----- Training -----\n",
        "best_val_acc = 0.0\n",
        "print(\"\\nStarting Training:\")\n",
        "for epoch in range(1, NUM_EPOCHS + 1):\n",
        "    train_loss = train_one_epoch(transformer_model, train_loader, criterion, optimizer, device)\n",
        "    val_loss, val_acc, _, _ = evaluate_model(transformer_model, val_loader, criterion, device)\n",
        "    print(f\"[M3] Epoch {epoch}/{NUM_EPOCHS} | Train Loss: {train_loss:.4f} | Val Loss: {val_loss:.4f} | Val Acc: {val_acc:.4f}\")\n",
        "    if val_acc > best_val_acc:\n",
        "        best_val_acc = val_acc\n",
        "        torch.save(transformer_model.state_dict(), MODEL_SAVE_PATH)\n",
        "        print(f\"  ↳ Saved best model with Val Acc: {best_val_acc:.4f}\")\n",
        "\n",
        "# ----- Final Test Eval -----\n",
        "print(\"\\nReport:\")\n",
        "state = torch.load(MODEL_SAVE_PATH)\n",
        "transformer_model.load_state_dict(state)\n",
        "transformer_model.to(device)\n",
        "\n",
        "test_loss, test_acc, test_preds, test_true = evaluate_model(transformer_model, test_loader, criterion, device)\n",
        "print(f\"[M3] Test Loss: {test_loss:.4f}\")\n",
        "print(f\"[M3] Test Accuracy: {test_acc:.4f}\")\n",
        "print(classification_report(test_true, test_preds, target_names=['entails', 'neutral'], zero_division=0))"
      ],
      "metadata": {
        "id": "GYN0mLh1cmB2",
        "colab": {
          "base_uri": "https://localhost:8080/"
        },
        "outputId": "4e9e0e28-2e1d-46a6-f715-59ece72df7ba"
      },
      "execution_count": 33,
      "outputs": [
        {
          "output_type": "stream",
          "name": "stdout",
          "text": [
            "\n",
            "Starting Training:\n"
          ]
        },
        {
          "output_type": "stream",
          "name": "stderr",
          "text": [
            "/usr/local/lib/python3.12/dist-packages/torch/nn/modules/transformer.py:515: UserWarning: The PyTorch API of nested tensors is in prototype stage and will change in the near future. We recommend specifying layout=torch.jagged when constructing a nested tensor, as this layout receives active development, has better operator coverage, and works with torch.compile. (Triggered internally at /pytorch/aten/src/ATen/NestedTensorImpl.cpp:178.)\n",
            "  output = torch._nested_tensor_from_mask(\n"
          ]
        },
        {
          "output_type": "stream",
          "name": "stdout",
          "text": [
            "[M3] Epoch 1/10 | Train Loss: 0.6533 | Val Loss: 0.6172 | Val Acc: 0.6549\n",
            "  ↳ Saved best model with Val Acc: 0.6549\n",
            "[M3] Epoch 2/10 | Train Loss: 0.5475 | Val Loss: 0.7033 | Val Acc: 0.6549\n",
            "[M3] Epoch 3/10 | Train Loss: 0.4857 | Val Loss: 0.6522 | Val Acc: 0.6564\n",
            "  ↳ Saved best model with Val Acc: 0.6564\n",
            "[M3] Epoch 4/10 | Train Loss: 0.4388 | Val Loss: 0.6546 | Val Acc: 0.6710\n",
            "  ↳ Saved best model with Val Acc: 0.6710\n",
            "[M3] Epoch 5/10 | Train Loss: 0.4078 | Val Loss: 0.8247 | Val Acc: 0.6304\n",
            "[M3] Epoch 6/10 | Train Loss: 0.3814 | Val Loss: 0.6207 | Val Acc: 0.6702\n",
            "[M3] Epoch 7/10 | Train Loss: 0.3600 | Val Loss: 0.6767 | Val Acc: 0.6741\n",
            "  ↳ Saved best model with Val Acc: 0.6741\n",
            "[M3] Epoch 8/10 | Train Loss: 0.3368 | Val Loss: 0.6947 | Val Acc: 0.6710\n",
            "[M3] Epoch 9/10 | Train Loss: 0.3188 | Val Loss: 0.6675 | Val Acc: 0.6610\n",
            "[M3] Epoch 10/10 | Train Loss: 0.2953 | Val Loss: 0.9860 | Val Acc: 0.6518\n",
            "\n",
            "Report:\n",
            "[M3] Test Loss: 0.6714\n",
            "[M3] Test Accuracy: 0.6938\n",
            "              precision    recall  f1-score   support\n",
            "\n",
            "     entails       0.69      0.41      0.52       842\n",
            "     neutral       0.70      0.88      0.78      1284\n",
            "\n",
            "    accuracy                           0.69      2126\n",
            "   macro avg       0.69      0.65      0.65      2126\n",
            "weighted avg       0.69      0.69      0.67      2126\n",
            "\n"
          ]
        }
      ]
    },
    {
      "cell_type": "markdown",
      "source": [
        "# 3.Testing and Evaluation\n",
        "(You can add as many code blocks and text blocks as you need. However, YOU SHOULD NOT MODIFY the section title)"
      ],
      "metadata": {
        "id": "EzGuzHPE87Ya"
      }
    },
    {
      "cell_type": "code",
      "source": [
        "# ============================\n",
        "# Unified Testing & Evaluation\n",
        "# ============================\n",
        "import os\n",
        "from sklearn.metrics import confusion_matrix, ConfusionMatrixDisplay\n",
        "import pandas as pd\n",
        "\n",
        "def safe_load_state(path):\n",
        "    \"\"\"Load state_dict with weights_only=True when available (newer PyTorch),\n",
        "    fallback to default for older versions.\"\"\"\n",
        "    try:\n",
        "        return torch.load(path, weights_only=True)\n",
        "    except TypeError:\n",
        "        return torch.load(path)\n",
        "\n",
        "def evaluate_and_report(model, weight_path, model_name):\n",
        "    if model is None:\n",
        "        print(f\"[{model_name}] SKIPPED (model not defined).\")\n",
        "        return None\n",
        "    if not os.path.exists(weight_path):\n",
        "        print(f\"[{model_name}] SKIPPED (weights not found at: {weight_path}).\")\n",
        "        return None\n",
        "\n",
        "    print(f\"\\n[{model_name}] Loading weights from: {weight_path}\")\n",
        "    state = safe_load_state(weight_path)\n",
        "    model.load_state_dict(state)\n",
        "    tl, ta, preds, gold = evaluate(model, test_loader, criterion, device)\n",
        "    print(f\"[{model_name}] Test: loss {tl:.4f} acc {ta:.4f}\")\n",
        "    print(classification_report(gold, preds, target_names=['entails','neutral'], zero_division=0))\n",
        "\n",
        "    # Confusion matrix (uncomment if you want the plots)\n",
        "    # cm = confusion_matrix(gold, preds)\n",
        "    # ConfusionMatrixDisplay(cm, display_labels=['entails','neutral']).plot(cmap='Blues')\n",
        "    # plt.title(f'{model_name} — Test Confusion Matrix'); plt.show()\n",
        "\n",
        "    return {\"Model\": model_name, \"Test Loss\": tl, \"Test Acc\": ta, \"Preds\": preds, \"Gold\": gold}\n",
        "\n",
        "results = []\n",
        "\n",
        "# -----------------\n",
        "# Model 1: Siamese BiLSTM (commented until your teammate plugs it in)\n",
        "# -----------------\n",
        "# model_1 = SiameseBiLSTM(vocab_size, EMBEDDING_DIM, HIDDEN_DIM, NUM_CLASSES).to(device)\n",
        "# results.append(evaluate_and_report(model_1, \"best_siamese_bilstm.pth\", \"Model 1 — BiLSTM\"))\n",
        "\n",
        "# -----------------\n",
        "# Model 2A: Encoder-side Attention (yours)\n",
        "# -----------------\n",
        "try:\n",
        "    results.append(evaluate_and_report(model_2a, \"best_model_2a.pth\", \"Model 2A — Enc Self-Attn\"))\n",
        "except NameError:\n",
        "    print(\"[Model 2A] SKIPPED (model_2a not in scope).\")\n",
        "\n",
        "# -----------------\n",
        "# Model 2B: Decoder-side Cross-Attention (yours)\n",
        "# -----------------\n",
        "try:\n",
        "    results.append(evaluate_and_report(model_2b, \"best_model_2b.pth\", \"Model 2B — Dec Cross-Attn\"))\n",
        "except NameError:\n",
        "    print(\"[Model 2B] SKIPPED (model_2b not in scope).\")\n",
        "\n",
        "# -----------------\n",
        "# Model 3: Transformer (commented until your teammate plugs it in)\n",
        "# -----------------\n",
        "# model_3 = YourTransformerClass(...).to(device)\n",
        "# results.append(evaluate_and_report(model_3, \"best_transformer.pth\", \"Model 3 — Transformer\"))\n",
        "\n",
        "# ---- Summary table ----\n",
        "results = [r for r in results if r is not None]\n",
        "if results:\n",
        "    summary_rows = [{\"Model\": r[\"Model\"], \"Test Loss\": round(r[\"Test Loss\"], 4), \"Test Acc\": round(r[\"Test Acc\"], 4)} for r in results]\n",
        "    df_summary = pd.DataFrame(summary_rows).sort_values(by=\"Test Acc\", ascending=False)\n",
        "    print(\"\\n=== Test Summary ===\")\n",
        "    display(df_summary)\n",
        "else:\n",
        "    print(\"\\nNo models evaluated — define models or provide weight files first.\")\n",
        "\n",
        "# (Optional) save summary + raw preds to disk\n",
        "try:\n",
        "    if results:\n",
        "        df_summary.to_csv(\"test_summary.csv\", index=False)\n",
        "        # Save per-model detailed preds\n",
        "        for r in results:\n",
        "            pd.DataFrame({\"gold\": r[\"Gold\"], \"pred\": r[\"Preds\"]}).to_csv(\n",
        "                f\"{r['Model'].replace(' ','_')}_test_preds.csv\", index=False\n",
        "            )\n",
        "        print(\"Saved: test_summary.csv and *_test_preds.csv\")\n",
        "except Exception as e:\n",
        "    print(\"Save error:\", e)\n"
      ],
      "metadata": {
        "id": "6ZVeNYIH9IaL",
        "colab": {
          "base_uri": "https://localhost:8080/"
        },
        "outputId": "0a1dbe39-c04a-483a-cb4c-00842b17ed52"
      },
      "execution_count": 39,
      "outputs": [
        {
          "output_type": "stream",
          "name": "stdout",
          "text": [
            "[Model 2A] SKIPPED (model_2a not in scope).\n",
            "[Model 2B] SKIPPED (model_2b not in scope).\n",
            "\n",
            "No models evaluated — define models or provide weight files first.\n"
          ]
        }
      ]
    },
    {
      "cell_type": "markdown",
      "source": [
        "## Object Oriented Programming codes here\n",
        "\n",
        "*You can use multiple code snippets. Just add more if needed*"
      ],
      "metadata": {
        "id": "mefSOe8eTmGP"
      }
    }
  ]
}